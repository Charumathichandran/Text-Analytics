{
 "cells": [
  {
   "cell_type": "code",
   "execution_count": 57,
   "id": "94619a83",
   "metadata": {},
   "outputs": [],
   "source": [
    "paragraph=''' Machine Learning can play a pivotal role in a range of applications such as Deep Learning, Reinforcement Learning, Natural Language Processing, etc. A prime example of the application of machine learning is the autonomous vehicle. Sensors around the vehicle deliver thousands of data points which are analyzed and processed to move the vehicle toward its destination. Collective data from thousands of self-driving cars can be used to improve vehicle safety and prevent accidents.Food is any substance consumed to provide nutritional support for an organism. '''"
   ]
  },
  {
   "cell_type": "code",
   "execution_count": 58,
   "id": "808cd2e4",
   "metadata": {},
   "outputs": [
    {
     "data": {
      "text/plain": [
       "560"
      ]
     },
     "execution_count": 58,
     "metadata": {},
     "output_type": "execute_result"
    }
   ],
   "source": [
    "len(paragraph)"
   ]
  },
  {
   "cell_type": "markdown",
   "id": "850c0772",
   "metadata": {},
   "source": [
    "### LOADING NLTK"
   ]
  },
  {
   "cell_type": "code",
   "execution_count": 59,
   "id": "7df9ff7e",
   "metadata": {},
   "outputs": [
    {
     "name": "stdout",
     "output_type": "stream",
     "text": [
      "Requirement already satisfied: NLTK in c:\\users\\charumathi\\anaconda3\\lib\\site-packages (3.6.5)\n",
      "Requirement already satisfied: click in c:\\users\\charumathi\\anaconda3\\lib\\site-packages (from NLTK) (8.0.3)\n",
      "Requirement already satisfied: joblib in c:\\users\\charumathi\\anaconda3\\lib\\site-packages (from NLTK) (1.1.0)\n",
      "Requirement already satisfied: regex>=2021.8.3 in c:\\users\\charumathi\\anaconda3\\lib\\site-packages (from NLTK) (2021.8.3)\n",
      "Requirement already satisfied: tqdm in c:\\users\\charumathi\\anaconda3\\lib\\site-packages (from NLTK) (4.62.3)\n",
      "Requirement already satisfied: colorama in c:\\users\\charumathi\\anaconda3\\lib\\site-packages (from click->NLTK) (0.4.4)\n",
      "Note: you may need to restart the kernel to use updated packages.\n"
     ]
    }
   ],
   "source": [
    "pip install NLTK"
   ]
  },
  {
   "cell_type": "code",
   "execution_count": 60,
   "id": "2cac756f",
   "metadata": {},
   "outputs": [
    {
     "name": "stderr",
     "output_type": "stream",
     "text": [
      "[nltk_data] Downloading package punkt to\n",
      "[nltk_data]     C:\\Users\\charumathi\\AppData\\Roaming\\nltk_data...\n",
      "[nltk_data]   Package punkt is already up-to-date!\n"
     ]
    },
    {
     "data": {
      "text/plain": [
       "True"
      ]
     },
     "execution_count": 60,
     "metadata": {},
     "output_type": "execute_result"
    }
   ],
   "source": [
    "import nltk\n",
    "nltk.download('punkt')"
   ]
  },
  {
   "cell_type": "markdown",
   "id": "cbfa955a",
   "metadata": {},
   "source": [
    "### TOKENIZING THE WORDS"
   ]
  },
  {
   "cell_type": "code",
   "execution_count": 61,
   "id": "5aa02014",
   "metadata": {},
   "outputs": [
    {
     "name": "stdout",
     "output_type": "stream",
     "text": [
      " machine learning can play a pivotal role in a range of applications such as deep learning, reinforcement learning, natural language processing, etc. a prime example of the application of machine learning is the autonomous vehicle. sensors around the vehicle deliver thousands of data points which are analyzed and processed to move the vehicle toward its destination. collective data from thousands of self-driving cars can be used to improve vehicle safety and prevent accidents.food is any substance consumed to provide nutritional support for an organism. \n"
     ]
    }
   ],
   "source": [
    "#convert to lowercase\n",
    "lower=paragraph\n",
    "print(paragraph.lower())"
   ]
  },
  {
   "cell_type": "code",
   "execution_count": 62,
   "id": "a7578276",
   "metadata": {},
   "outputs": [
    {
     "data": {
      "text/plain": [
       "['Machine',\n",
       " 'Learning',\n",
       " 'can',\n",
       " 'play',\n",
       " 'a',\n",
       " 'pivotal',\n",
       " 'role',\n",
       " 'in',\n",
       " 'a',\n",
       " 'range',\n",
       " 'of',\n",
       " 'applications',\n",
       " 'such',\n",
       " 'as',\n",
       " 'Deep',\n",
       " 'Learning,',\n",
       " 'Reinforcement',\n",
       " 'Learning,',\n",
       " 'Natural',\n",
       " 'Language',\n",
       " 'Processing,',\n",
       " 'etc.',\n",
       " 'A',\n",
       " 'prime',\n",
       " 'example',\n",
       " 'of',\n",
       " 'the',\n",
       " 'application',\n",
       " 'of',\n",
       " 'machine',\n",
       " 'learning',\n",
       " 'is',\n",
       " 'the',\n",
       " 'autonomous',\n",
       " 'vehicle.',\n",
       " 'Sensors',\n",
       " 'around',\n",
       " 'the',\n",
       " 'vehicle',\n",
       " 'deliver',\n",
       " 'thousands',\n",
       " 'of',\n",
       " 'data',\n",
       " 'points',\n",
       " 'which',\n",
       " 'are',\n",
       " 'analyzed',\n",
       " 'and',\n",
       " 'processed',\n",
       " 'to',\n",
       " 'move',\n",
       " 'the',\n",
       " 'vehicle',\n",
       " 'toward',\n",
       " 'its',\n",
       " 'destination.',\n",
       " 'Collective',\n",
       " 'data',\n",
       " 'from',\n",
       " 'thousands',\n",
       " 'of',\n",
       " 'self-driving',\n",
       " 'cars',\n",
       " 'can',\n",
       " 'be',\n",
       " 'used',\n",
       " 'to',\n",
       " 'improve',\n",
       " 'vehicle',\n",
       " 'safety',\n",
       " 'and',\n",
       " 'prevent',\n",
       " 'accidents.Food',\n",
       " 'is',\n",
       " 'any',\n",
       " 'substance',\n",
       " 'consumed',\n",
       " 'to',\n",
       " 'provide',\n",
       " 'nutritional',\n",
       " 'support',\n",
       " 'for',\n",
       " 'an',\n",
       " 'organism.']"
      ]
     },
     "execution_count": 62,
     "metadata": {},
     "output_type": "execute_result"
    }
   ],
   "source": [
    "#Split it into wprds--->words are called TOKENS\n",
    "paragraph.split()"
   ]
  },
  {
   "cell_type": "code",
   "execution_count": 63,
   "id": "eb1c662a",
   "metadata": {},
   "outputs": [
    {
     "name": "stdout",
     "output_type": "stream",
     "text": [
      "['Machine', 'Learning', 'can', 'play', 'a', 'pivotal', 'role', 'in', 'a', 'range', 'of', 'applications', 'such', 'as', 'Deep', 'Learning', ',', 'Reinforcement', 'Learning', ',', 'Natural', 'Language', 'Processing', ',', 'etc', '.', 'A', 'prime', 'example', 'of', 'the', 'application', 'of', 'machine', 'learning', 'is', 'the', 'autonomous', 'vehicle', '.', 'Sensors', 'around', 'the', 'vehicle', 'deliver', 'thousands', 'of', 'data', 'points', 'which', 'are', 'analyzed', 'and', 'processed', 'to', 'move', 'the', 'vehicle', 'toward', 'its', 'destination', '.', 'Collective', 'data', 'from', 'thousands', 'of', 'self-driving', 'cars', 'can', 'be', 'used', 'to', 'improve', 'vehicle', 'safety', 'and', 'prevent', 'accidents.Food', 'is', 'any', 'substance', 'consumed', 'to', 'provide', 'nutritional', 'support', 'for', 'an', 'organism', '.']\n"
     ]
    }
   ],
   "source": [
    "from nltk.tokenize import word_tokenize\n",
    "token=word_tokenize(paragraph)\n",
    "print(token)"
   ]
  },
  {
   "cell_type": "markdown",
   "id": "cc3677ff",
   "metadata": {},
   "source": [
    "### FREQUENCY DISTINCT"
   ]
  },
  {
   "cell_type": "code",
   "execution_count": 64,
   "id": "0ca84bfb",
   "metadata": {},
   "outputs": [
    {
     "data": {
      "text/plain": [
       "FreqDist({'of': 5, '.': 4, 'the': 4, 'vehicle': 4, 'Learning': 3, ',': 3, 'to': 3, 'can': 2, 'a': 2, 'is': 2, ...})"
      ]
     },
     "execution_count": 64,
     "metadata": {},
     "output_type": "execute_result"
    }
   ],
   "source": [
    "from nltk.probability import FreqDist\n",
    "fdist=FreqDist(token)\n",
    "fdist"
   ]
  },
  {
   "cell_type": "markdown",
   "id": "f7142481",
   "metadata": {},
   "source": [
    "### MOST COMMON---.MOST COMMON WORDS"
   ]
  },
  {
   "cell_type": "code",
   "execution_count": 65,
   "id": "438d9b75",
   "metadata": {},
   "outputs": [
    {
     "data": {
      "text/plain": [
       "[('of', 5), ('.', 4), ('the', 4), ('vehicle', 4), ('Learning', 3)]"
      ]
     },
     "execution_count": 65,
     "metadata": {},
     "output_type": "execute_result"
    }
   ],
   "source": [
    "fdist1=fdist.most_common(5)\n",
    "fdist1"
   ]
  },
  {
   "cell_type": "markdown",
   "id": "108f1df4",
   "metadata": {},
   "source": [
    "### N-GRAMS-->FINDING RELATIVE WORDS"
   ]
  },
  {
   "cell_type": "code",
   "execution_count": 66,
   "id": "60c2e064",
   "metadata": {},
   "outputs": [
    {
     "name": "stdout",
     "output_type": "stream",
     "text": [
      "Requirement already satisfied: textblob in c:\\users\\charumathi\\anaconda3\\lib\\site-packages (0.17.1)\n",
      "Requirement already satisfied: nltk>=3.1 in c:\\users\\charumathi\\anaconda3\\lib\\site-packages (from textblob) (3.6.5)\n",
      "Requirement already satisfied: click in c:\\users\\charumathi\\anaconda3\\lib\\site-packages (from nltk>=3.1->textblob) (8.0.3)\n",
      "Requirement already satisfied: joblib in c:\\users\\charumathi\\anaconda3\\lib\\site-packages (from nltk>=3.1->textblob) (1.1.0)\n",
      "Requirement already satisfied: regex>=2021.8.3 in c:\\users\\charumathi\\anaconda3\\lib\\site-packages (from nltk>=3.1->textblob) (2021.8.3)\n",
      "Requirement already satisfied: tqdm in c:\\users\\charumathi\\anaconda3\\lib\\site-packages (from nltk>=3.1->textblob) (4.62.3)\n",
      "Requirement already satisfied: colorama in c:\\users\\charumathi\\anaconda3\\lib\\site-packages (from click->nltk>=3.1->textblob) (0.4.4)\n",
      "Note: you may need to restart the kernel to use updated packages.\n"
     ]
    }
   ],
   "source": [
    "pip install textblob"
   ]
  },
  {
   "cell_type": "code",
   "execution_count": 67,
   "id": "50cdf126",
   "metadata": {},
   "outputs": [
    {
     "data": {
      "text/plain": [
       "[WordList(['Machine', 'Learning', 'can', 'play', 'a']),\n",
       " WordList(['Learning', 'can', 'play', 'a', 'pivotal']),\n",
       " WordList(['can', 'play', 'a', 'pivotal', 'role']),\n",
       " WordList(['play', 'a', 'pivotal', 'role', 'in']),\n",
       " WordList(['a', 'pivotal', 'role', 'in', 'a']),\n",
       " WordList(['pivotal', 'role', 'in', 'a', 'range']),\n",
       " WordList(['role', 'in', 'a', 'range', 'of']),\n",
       " WordList(['in', 'a', 'range', 'of', 'applications']),\n",
       " WordList(['a', 'range', 'of', 'applications', 'such']),\n",
       " WordList(['range', 'of', 'applications', 'such', 'as']),\n",
       " WordList(['of', 'applications', 'such', 'as', 'Deep']),\n",
       " WordList(['applications', 'such', 'as', 'Deep', 'Learning']),\n",
       " WordList(['such', 'as', 'Deep', 'Learning', 'Reinforcement']),\n",
       " WordList(['as', 'Deep', 'Learning', 'Reinforcement', 'Learning']),\n",
       " WordList(['Deep', 'Learning', 'Reinforcement', 'Learning', 'Natural']),\n",
       " WordList(['Learning', 'Reinforcement', 'Learning', 'Natural', 'Language']),\n",
       " WordList(['Reinforcement', 'Learning', 'Natural', 'Language', 'Processing']),\n",
       " WordList(['Learning', 'Natural', 'Language', 'Processing', 'etc']),\n",
       " WordList(['Natural', 'Language', 'Processing', 'etc', 'A']),\n",
       " WordList(['Language', 'Processing', 'etc', 'A', 'prime']),\n",
       " WordList(['Processing', 'etc', 'A', 'prime', 'example']),\n",
       " WordList(['etc', 'A', 'prime', 'example', 'of']),\n",
       " WordList(['A', 'prime', 'example', 'of', 'the']),\n",
       " WordList(['prime', 'example', 'of', 'the', 'application']),\n",
       " WordList(['example', 'of', 'the', 'application', 'of']),\n",
       " WordList(['of', 'the', 'application', 'of', 'machine']),\n",
       " WordList(['the', 'application', 'of', 'machine', 'learning']),\n",
       " WordList(['application', 'of', 'machine', 'learning', 'is']),\n",
       " WordList(['of', 'machine', 'learning', 'is', 'the']),\n",
       " WordList(['machine', 'learning', 'is', 'the', 'autonomous']),\n",
       " WordList(['learning', 'is', 'the', 'autonomous', 'vehicle']),\n",
       " WordList(['is', 'the', 'autonomous', 'vehicle', 'Sensors']),\n",
       " WordList(['the', 'autonomous', 'vehicle', 'Sensors', 'around']),\n",
       " WordList(['autonomous', 'vehicle', 'Sensors', 'around', 'the']),\n",
       " WordList(['vehicle', 'Sensors', 'around', 'the', 'vehicle']),\n",
       " WordList(['Sensors', 'around', 'the', 'vehicle', 'deliver']),\n",
       " WordList(['around', 'the', 'vehicle', 'deliver', 'thousands']),\n",
       " WordList(['the', 'vehicle', 'deliver', 'thousands', 'of']),\n",
       " WordList(['vehicle', 'deliver', 'thousands', 'of', 'data']),\n",
       " WordList(['deliver', 'thousands', 'of', 'data', 'points']),\n",
       " WordList(['thousands', 'of', 'data', 'points', 'which']),\n",
       " WordList(['of', 'data', 'points', 'which', 'are']),\n",
       " WordList(['data', 'points', 'which', 'are', 'analyzed']),\n",
       " WordList(['points', 'which', 'are', 'analyzed', 'and']),\n",
       " WordList(['which', 'are', 'analyzed', 'and', 'processed']),\n",
       " WordList(['are', 'analyzed', 'and', 'processed', 'to']),\n",
       " WordList(['analyzed', 'and', 'processed', 'to', 'move']),\n",
       " WordList(['and', 'processed', 'to', 'move', 'the']),\n",
       " WordList(['processed', 'to', 'move', 'the', 'vehicle']),\n",
       " WordList(['to', 'move', 'the', 'vehicle', 'toward']),\n",
       " WordList(['move', 'the', 'vehicle', 'toward', 'its']),\n",
       " WordList(['the', 'vehicle', 'toward', 'its', 'destination']),\n",
       " WordList(['vehicle', 'toward', 'its', 'destination', 'Collective']),\n",
       " WordList(['toward', 'its', 'destination', 'Collective', 'data']),\n",
       " WordList(['its', 'destination', 'Collective', 'data', 'from']),\n",
       " WordList(['destination', 'Collective', 'data', 'from', 'thousands']),\n",
       " WordList(['Collective', 'data', 'from', 'thousands', 'of']),\n",
       " WordList(['data', 'from', 'thousands', 'of', 'self-driving']),\n",
       " WordList(['from', 'thousands', 'of', 'self-driving', 'cars']),\n",
       " WordList(['thousands', 'of', 'self-driving', 'cars', 'can']),\n",
       " WordList(['of', 'self-driving', 'cars', 'can', 'be']),\n",
       " WordList(['self-driving', 'cars', 'can', 'be', 'used']),\n",
       " WordList(['cars', 'can', 'be', 'used', 'to']),\n",
       " WordList(['can', 'be', 'used', 'to', 'improve']),\n",
       " WordList(['be', 'used', 'to', 'improve', 'vehicle']),\n",
       " WordList(['used', 'to', 'improve', 'vehicle', 'safety']),\n",
       " WordList(['to', 'improve', 'vehicle', 'safety', 'and']),\n",
       " WordList(['improve', 'vehicle', 'safety', 'and', 'prevent']),\n",
       " WordList(['vehicle', 'safety', 'and', 'prevent', 'accidents.Food']),\n",
       " WordList(['safety', 'and', 'prevent', 'accidents.Food', 'is']),\n",
       " WordList(['and', 'prevent', 'accidents.Food', 'is', 'any']),\n",
       " WordList(['prevent', 'accidents.Food', 'is', 'any', 'substance']),\n",
       " WordList(['accidents.Food', 'is', 'any', 'substance', 'consumed']),\n",
       " WordList(['is', 'any', 'substance', 'consumed', 'to']),\n",
       " WordList(['any', 'substance', 'consumed', 'to', 'provide']),\n",
       " WordList(['substance', 'consumed', 'to', 'provide', 'nutritional']),\n",
       " WordList(['consumed', 'to', 'provide', 'nutritional', 'support']),\n",
       " WordList(['to', 'provide', 'nutritional', 'support', 'for']),\n",
       " WordList(['provide', 'nutritional', 'support', 'for', 'an']),\n",
       " WordList(['nutritional', 'support', 'for', 'an', 'organism'])]"
      ]
     },
     "execution_count": 67,
     "metadata": {},
     "output_type": "execute_result"
    }
   ],
   "source": [
    "import textblob\n",
    "from textblob import TextBlob\n",
    "TextBlob(paragraph).ngrams(5)"
   ]
  },
  {
   "cell_type": "markdown",
   "id": "5044d1e5",
   "metadata": {},
   "source": [
    "### STEMMING"
   ]
  },
  {
   "cell_type": "code",
   "execution_count": 68,
   "id": "7428ff8a",
   "metadata": {},
   "outputs": [
    {
     "data": {
      "text/plain": [
       "'send'"
      ]
     },
     "execution_count": 68,
     "metadata": {},
     "output_type": "execute_result"
    }
   ],
   "source": [
    "from nltk.stem import PorterStemmer\n",
    "pst=PorterStemmer()\n",
    "pst.stem('sending')"
   ]
  },
  {
   "cell_type": "code",
   "execution_count": 69,
   "id": "d23c841c",
   "metadata": {},
   "outputs": [
    {
     "data": {
      "text/plain": [
       "'eat'"
      ]
     },
     "execution_count": 69,
     "metadata": {},
     "output_type": "execute_result"
    }
   ],
   "source": [
    "from nltk.stem import PorterStemmer\n",
    "pst=PorterStemmer()\n",
    "pst.stem('eat')"
   ]
  },
  {
   "cell_type": "code",
   "execution_count": 70,
   "id": "9a139298",
   "metadata": {},
   "outputs": [
    {
     "data": {
      "text/plain": [
       "'send'"
      ]
     },
     "execution_count": 70,
     "metadata": {},
     "output_type": "execute_result"
    }
   ],
   "source": [
    "from nltk.stem import PorterStemmer\n",
    "pst=PorterStemmer()\n",
    "pst.stem('send')"
   ]
  },
  {
   "cell_type": "code",
   "execution_count": 71,
   "id": "9c7ad228",
   "metadata": {},
   "outputs": [
    {
     "data": {
      "text/plain": [
       "'formula'"
      ]
     },
     "execution_count": 71,
     "metadata": {},
     "output_type": "execute_result"
    }
   ],
   "source": [
    "from nltk.stem import PorterStemmer\n",
    "pst=PorterStemmer()\n",
    "pst.stem('formulae')"
   ]
  },
  {
   "cell_type": "code",
   "execution_count": 72,
   "id": "0fe984fd",
   "metadata": {},
   "outputs": [
    {
     "data": {
      "text/plain": [
       "'give'"
      ]
     },
     "execution_count": 72,
     "metadata": {},
     "output_type": "execute_result"
    }
   ],
   "source": [
    "from nltk.stem import PorterStemmer\n",
    "pst=PorterStemmer()\n",
    "pst.stem('giving')"
   ]
  },
  {
   "cell_type": "markdown",
   "id": "80b104b8",
   "metadata": {},
   "source": [
    "### LEMMATIZATION"
   ]
  },
  {
   "cell_type": "code",
   "execution_count": 73,
   "id": "26cfd546",
   "metadata": {},
   "outputs": [
    {
     "data": {
      "text/plain": [
       "'send'"
      ]
     },
     "execution_count": 73,
     "metadata": {},
     "output_type": "execute_result"
    }
   ],
   "source": [
    "from nltk.stem import LancasterStemmer\n",
    "lst=LancasterStemmer()\n",
    "lst.stem('sending')"
   ]
  },
  {
   "cell_type": "code",
   "execution_count": 74,
   "id": "b3462518",
   "metadata": {},
   "outputs": [
    {
     "data": {
      "text/plain": [
       "'giv'"
      ]
     },
     "execution_count": 74,
     "metadata": {},
     "output_type": "execute_result"
    }
   ],
   "source": [
    "from nltk.stem import LancasterStemmer\n",
    "lst=LancasterStemmer()\n",
    "lst.stem('giving')"
   ]
  },
  {
   "cell_type": "code",
   "execution_count": 75,
   "id": "9df91cbb",
   "metadata": {},
   "outputs": [
    {
     "data": {
      "text/plain": [
       "'formula'"
      ]
     },
     "execution_count": 75,
     "metadata": {},
     "output_type": "execute_result"
    }
   ],
   "source": [
    "from nltk.stem import LancasterStemmer\n",
    "lst=LancasterStemmer()\n",
    "lst.stem('formulae')"
   ]
  },
  {
   "cell_type": "code",
   "execution_count": 76,
   "id": "1db503b9",
   "metadata": {},
   "outputs": [
    {
     "data": {
      "text/plain": [
       "'eat'"
      ]
     },
     "execution_count": 76,
     "metadata": {},
     "output_type": "execute_result"
    }
   ],
   "source": [
    "from nltk.stem import LancasterStemmer\n",
    "lst=LancasterStemmer()\n",
    "lst.stem('eat')"
   ]
  },
  {
   "cell_type": "code",
   "execution_count": 77,
   "id": "e5ab1d69",
   "metadata": {},
   "outputs": [
    {
     "data": {
      "text/plain": [
       "'kniv'"
      ]
     },
     "execution_count": 77,
     "metadata": {},
     "output_type": "execute_result"
    }
   ],
   "source": [
    "from nltk.stem import LancasterStemmer\n",
    "lst=LancasterStemmer()\n",
    "lst.stem('knives')"
   ]
  },
  {
   "cell_type": "code",
   "execution_count": 78,
   "id": "d38ca0fc",
   "metadata": {},
   "outputs": [
    {
     "data": {
      "text/plain": [
       "'ambigu'"
      ]
     },
     "execution_count": 78,
     "metadata": {},
     "output_type": "execute_result"
    }
   ],
   "source": [
    "from nltk.stem import LancasterStemmer\n",
    "lst=LancasterStemmer()\n",
    "lst.stem('ambiguous')"
   ]
  },
  {
   "cell_type": "code",
   "execution_count": 79,
   "id": "364617d9",
   "metadata": {},
   "outputs": [
    {
     "name": "stderr",
     "output_type": "stream",
     "text": [
      "[nltk_data] Downloading package wordnet to\n",
      "[nltk_data]     C:\\Users\\charumathi\\AppData\\Roaming\\nltk_data...\n",
      "[nltk_data]   Package wordnet is already up-to-date!\n"
     ]
    },
    {
     "data": {
      "text/plain": [
       "True"
      ]
     },
     "execution_count": 79,
     "metadata": {},
     "output_type": "execute_result"
    }
   ],
   "source": [
    "from nltk.stem import WordNetLemmatizer\n",
    "nltk.download('wordnet')\n"
   ]
  },
  {
   "cell_type": "code",
   "execution_count": 80,
   "id": "0ddedf3b",
   "metadata": {},
   "outputs": [
    {
     "data": {
      "text/plain": [
       "'knife'"
      ]
     },
     "execution_count": 80,
     "metadata": {},
     "output_type": "execute_result"
    }
   ],
   "source": [
    "lemmatizer=WordNetLemmatizer()\n",
    "lemmatizer.lemmatize('knives')"
   ]
  },
  {
   "cell_type": "code",
   "execution_count": 81,
   "id": "44aef888",
   "metadata": {},
   "outputs": [
    {
     "data": {
      "text/plain": [
       "'sending'"
      ]
     },
     "execution_count": 81,
     "metadata": {},
     "output_type": "execute_result"
    }
   ],
   "source": [
    "lemmatizer=WordNetLemmatizer()\n",
    "lemmatizer.lemmatize('sending')"
   ]
  },
  {
   "cell_type": "code",
   "execution_count": 82,
   "id": "e11b9301",
   "metadata": {},
   "outputs": [
    {
     "data": {
      "text/plain": [
       "'giving'"
      ]
     },
     "execution_count": 82,
     "metadata": {},
     "output_type": "execute_result"
    }
   ],
   "source": [
    "lemmatizer=WordNetLemmatizer()\n",
    "lemmatizer.lemmatize('giving')"
   ]
  },
  {
   "cell_type": "code",
   "execution_count": 83,
   "id": "93d841e6",
   "metadata": {},
   "outputs": [
    {
     "data": {
      "text/plain": [
       "'formula'"
      ]
     },
     "execution_count": 83,
     "metadata": {},
     "output_type": "execute_result"
    }
   ],
   "source": [
    "lemmatizer=WordNetLemmatizer()\n",
    "lemmatizer.lemmatize('formulae')"
   ]
  },
  {
   "cell_type": "markdown",
   "id": "e5414f10",
   "metadata": {},
   "source": [
    "### STOP WORDS"
   ]
  },
  {
   "cell_type": "code",
   "execution_count": 84,
   "id": "10118a26",
   "metadata": {},
   "outputs": [],
   "source": [
    "from nltk import word_tokenize\n",
    "from nltk.corpus import stopwords\n"
   ]
  },
  {
   "cell_type": "code",
   "execution_count": 85,
   "id": "c179b912",
   "metadata": {},
   "outputs": [
    {
     "name": "stderr",
     "output_type": "stream",
     "text": [
      "[nltk_data] Downloading package stopwords to\n",
      "[nltk_data]     C:\\Users\\charumathi\\AppData\\Roaming\\nltk_data...\n",
      "[nltk_data]   Package stopwords is already up-to-date!\n"
     ]
    },
    {
     "data": {
      "text/plain": [
       "True"
      ]
     },
     "execution_count": 85,
     "metadata": {},
     "output_type": "execute_result"
    }
   ],
   "source": [
    "nltk.download('stopwords')"
   ]
  },
  {
   "cell_type": "code",
   "execution_count": 86,
   "id": "27c9821b",
   "metadata": {},
   "outputs": [],
   "source": [
    "a=set(stopwords.words('english'))"
   ]
  },
  {
   "cell_type": "code",
   "execution_count": 87,
   "id": "1446b853",
   "metadata": {},
   "outputs": [
    {
     "name": "stdout",
     "output_type": "stream",
     "text": [
      "['machine', 'learning', 'can', 'play', 'a', 'pivotal', 'role', 'in', 'a', 'range', 'of', 'applications', 'such', 'as', 'deep', 'learning', ',', 'reinforcement', 'learning', ',', 'natural', 'language', 'processing', ',', 'etc', '.', 'a', 'prime', 'example', 'of', 'the', 'application', 'of', 'machine', 'learning', 'is', 'the', 'autonomous', 'vehicle', '.', 'sensors', 'around', 'the', 'vehicle', 'deliver', 'thousands', 'of', 'data', 'points', 'which', 'are', 'analyzed', 'and', 'processed', 'to', 'move', 'the', 'vehicle', 'toward', 'its', 'destination', '.', 'collective', 'data', 'from', 'thousands', 'of', 'self-driving', 'cars', 'can', 'be', 'used', 'to', 'improve', 'vehicle', 'safety', 'and', 'prevent', 'accidents.food', 'is', 'any', 'substance', 'consumed', 'to', 'provide', 'nutritional', 'support', 'for', 'an', 'organism', '.']\n"
     ]
    }
   ],
   "source": [
    "text1=word_tokenize(paragraph.lower())\n",
    "print(text1)"
   ]
  },
  {
   "cell_type": "code",
   "execution_count": 88,
   "id": "0580b878",
   "metadata": {},
   "outputs": [
    {
     "name": "stdout",
     "output_type": "stream",
     "text": [
      "['machine', 'learning', 'play', 'pivotal', 'role', 'range', 'applications', 'deep', 'learning', ',', 'reinforcement', 'learning', ',', 'natural', 'language', 'processing', ',', 'etc', '.', 'prime', 'example', 'application', 'machine', 'learning', 'autonomous', 'vehicle', '.', 'sensors', 'around', 'vehicle', 'deliver', 'thousands', 'data', 'points', 'analyzed', 'processed', 'move', 'vehicle', 'toward', 'destination', '.', 'collective', 'data', 'thousands', 'self-driving', 'cars', 'used', 'improve', 'vehicle', 'safety', 'prevent', 'accidents.food', 'substance', 'consumed', 'provide', 'nutritional', 'support', 'organism', '.']\n"
     ]
    }
   ],
   "source": [
    "stopwords=[x for x in text1 if x not in a]\n",
    "print(stopwords)"
   ]
  },
  {
   "cell_type": "markdown",
   "id": "cf8aae1a",
   "metadata": {},
   "source": [
    "### WORD CLOUD"
   ]
  },
  {
   "cell_type": "code",
   "execution_count": 89,
   "id": "652bceae",
   "metadata": {},
   "outputs": [
    {
     "name": "stdout",
     "output_type": "stream",
     "text": [
      "Collecting package metadata (current_repodata.json): ...working... done\n",
      "Solving environment: ...working... done\n",
      "\n",
      "# All requested packages already installed.\n",
      "\n",
      "\n",
      "Note: you may need to restart the kernel to use updated packages.\n"
     ]
    }
   ],
   "source": [
    "conda install -c conda-forge wordcloud"
   ]
  },
  {
   "cell_type": "code",
   "execution_count": 90,
   "id": "cac11657",
   "metadata": {},
   "outputs": [],
   "source": [
    "from wordcloud import WordCloud"
   ]
  },
  {
   "cell_type": "code",
   "execution_count": 91,
   "id": "5cbe290a",
   "metadata": {},
   "outputs": [],
   "source": [
    "import matplotlib.pyplot as plt"
   ]
  },
  {
   "cell_type": "code",
   "execution_count": 92,
   "id": "077c9e8c",
   "metadata": {},
   "outputs": [
    {
     "data": {
      "image/png": "[encoded data removed]",
      "text/plain": [
       "<Figure size 720x504 with 1 Axes>"
      ]
     },
     "metadata": {
      "needs_background": "light"
     },
     "output_type": "display_data"
    }
   ],
   "source": [
    "all_words = ' '.join([t for t in stopwords])\n",
    "wordcloud = WordCloud(width=800, height=500, random_state=21, max_font_size=110).generate(all_words)\n",
    "plt.figure(figsize=(10, 7))\n",
    "plt.imshow(wordcloud, interpolation=\"bilinear\")\n",
    "plt.axis('off')\n",
    "plt.show()"
   ]
  },
  {
   "cell_type": "markdown",
   "id": "20b792eb",
   "metadata": {},
   "source": [
    "### PARTS OF SPEECH TAGGING-->POS TAGGING"
   ]
  },
  {
   "cell_type": "code",
   "execution_count": 93,
   "id": "bb42a569",
   "metadata": {},
   "outputs": [
    {
     "name": "stderr",
     "output_type": "stream",
     "text": [
      "[nltk_data] Downloading package averaged_perceptron_tagger to\n",
      "[nltk_data]     C:\\Users\\charumathi\\AppData\\Roaming\\nltk_data...\n",
      "[nltk_data]   Package averaged_perceptron_tagger is already up-to-\n",
      "[nltk_data]       date!\n"
     ]
    },
    {
     "data": {
      "text/plain": [
       "True"
      ]
     },
     "execution_count": 93,
     "metadata": {},
     "output_type": "execute_result"
    }
   ],
   "source": [
    "nltk.download('averaged_perceptron_tagger')"
   ]
  },
  {
   "cell_type": "code",
   "execution_count": 98,
   "id": "9339bc22",
   "metadata": {},
   "outputs": [],
   "source": [
    "text1 = word_tokenize(paragraph)"
   ]
  },
  {
   "cell_type": "code",
   "execution_count": 99,
   "id": "114ecfe0",
   "metadata": {},
   "outputs": [
    {
     "name": "stdout",
     "output_type": "stream",
     "text": [
      "[('Machine', 'NN')]\n",
      "[('Learning', 'VBG')]\n",
      "[('can', 'MD')]\n",
      "[('play', 'NN')]\n",
      "[('a', 'DT')]\n",
      "[('pivotal', 'NN')]\n",
      "[('role', 'NN')]\n",
      "[('in', 'IN')]\n",
      "[('a', 'DT')]\n",
      "[('range', 'NN')]\n",
      "[('of', 'IN')]\n",
      "[('applications', 'NNS')]\n",
      "[('such', 'JJ')]\n",
      "[('as', 'IN')]\n",
      "[('Deep', 'JJ')]\n",
      "[('Learning', 'VBG')]\n",
      "[(',', ',')]\n",
      "[('Reinforcement', 'NN')]\n",
      "[('Learning', 'VBG')]\n",
      "[(',', ',')]\n",
      "[('Natural', 'JJ')]\n",
      "[('Language', 'NN')]\n",
      "[('Processing', 'VBG')]\n",
      "[(',', ',')]\n",
      "[('etc', 'NN')]\n",
      "[('.', '.')]\n",
      "[('A', 'DT')]\n",
      "[('prime', 'NN')]\n",
      "[('example', 'NN')]\n",
      "[('of', 'IN')]\n",
      "[('the', 'DT')]\n",
      "[('application', 'NN')]\n",
      "[('of', 'IN')]\n",
      "[('machine', 'NN')]\n",
      "[('learning', 'VBG')]\n",
      "[('is', 'VBZ')]\n",
      "[('the', 'DT')]\n",
      "[('autonomous', 'JJ')]\n",
      "[('vehicle', 'NN')]\n",
      "[('.', '.')]\n",
      "[('Sensors', 'NNS')]\n",
      "[('around', 'IN')]\n",
      "[('the', 'DT')]\n",
      "[('vehicle', 'NN')]\n",
      "[('deliver', 'NN')]\n",
      "[('thousands', 'NNS')]\n",
      "[('of', 'IN')]\n",
      "[('data', 'NNS')]\n",
      "[('points', 'NNS')]\n",
      "[('which', 'WDT')]\n",
      "[('are', 'VBP')]\n",
      "[('analyzed', 'VBN')]\n",
      "[('and', 'CC')]\n",
      "[('processed', 'VBN')]\n",
      "[('to', 'TO')]\n",
      "[('move', 'NN')]\n",
      "[('the', 'DT')]\n",
      "[('vehicle', 'NN')]\n",
      "[('toward', 'IN')]\n",
      "[('its', 'PRP$')]\n",
      "[('destination', 'NN')]\n",
      "[('.', '.')]\n",
      "[('Collective', 'JJ')]\n",
      "[('data', 'NNS')]\n",
      "[('from', 'IN')]\n",
      "[('thousands', 'NNS')]\n",
      "[('of', 'IN')]\n",
      "[('self-driving', 'NN')]\n",
      "[('cars', 'NNS')]\n",
      "[('can', 'MD')]\n",
      "[('be', 'VB')]\n",
      "[('used', 'VBN')]\n",
      "[('to', 'TO')]\n",
      "[('improve', 'VB')]\n",
      "[('vehicle', 'NN')]\n",
      "[('safety', 'NN')]\n",
      "[('and', 'CC')]\n",
      "[('prevent', 'NN')]\n",
      "[('accidents.Food', 'NN')]\n",
      "[('is', 'VBZ')]\n",
      "[('any', 'DT')]\n",
      "[('substance', 'NN')]\n",
      "[('consumed', 'VBN')]\n",
      "[('to', 'TO')]\n",
      "[('provide', 'NN')]\n",
      "[('nutritional', 'JJ')]\n",
      "[('support', 'NN')]\n",
      "[('for', 'IN')]\n",
      "[('an', 'DT')]\n",
      "[('organism', 'NN')]\n",
      "[('.', '.')]\n"
     ]
    }
   ],
   "source": [
    "for token in text1:\n",
    "    print(nltk.pos_tag([token]))"
   ]
  },
  {
   "cell_type": "markdown",
   "id": "88fe2e21",
   "metadata": {},
   "source": [
    "# TF-IDF"
   ]
  },
  {
   "cell_type": "code",
   "execution_count": 100,
   "id": "c525b144",
   "metadata": {},
   "outputs": [],
   "source": [
    "from sklearn.feature_extraction.text import TfidfVectorizer"
   ]
  },
  {
   "cell_type": "code",
   "execution_count": 101,
   "id": "08e342bf",
   "metadata": {},
   "outputs": [],
   "source": [
    "vectorizer = TfidfVectorizer()"
   ]
  },
  {
   "cell_type": "code",
   "execution_count": 102,
   "id": "c69a7a8d",
   "metadata": {},
   "outputs": [
    {
     "name": "stdout",
     "output_type": "stream",
     "text": [
      "['accidents', 'analyzed', 'application', 'applications', 'around', 'autonomous', 'cars', 'collective', 'consumed', 'data', 'deep', 'deliver', 'destination', 'driving', 'etc', 'example', 'food', 'improve', 'language', 'learning', 'machine', 'move', 'natural', 'nutritional', 'organism', 'pivotal', 'play', 'points', 'prevent', 'prime', 'processed', 'processing', 'provide', 'range', 'reinforcement', 'role', 'safety', 'self', 'sensors', 'substance', 'support', 'thousands', 'toward', 'used', 'vehicle']\n"
     ]
    }
   ],
   "source": [
    "X = vectorizer.fit_transform(stopwords)\n",
    "print(vectorizer.get_feature_names())"
   ]
  },
  {
   "cell_type": "markdown",
   "id": "aba19fae",
   "metadata": {},
   "source": [
    "# COUNTER"
   ]
  },
  {
   "cell_type": "code",
   "execution_count": 103,
   "id": "2ef5f9c8",
   "metadata": {},
   "outputs": [],
   "source": [
    "from collections import Counter"
   ]
  },
  {
   "cell_type": "code",
   "execution_count": 104,
   "id": "5273962c",
   "metadata": {},
   "outputs": [],
   "source": [
    "Counter = Counter(stopwords)"
   ]
  },
  {
   "cell_type": "code",
   "execution_count": 105,
   "id": "0a82fa4e",
   "metadata": {},
   "outputs": [
    {
     "data": {
      "text/plain": [
       "[('learning', 4),\n",
       " ('.', 4),\n",
       " ('vehicle', 4),\n",
       " (',', 3),\n",
       " ('machine', 2),\n",
       " ('thousands', 2),\n",
       " ('data', 2),\n",
       " ('play', 1),\n",
       " ('pivotal', 1),\n",
       " ('role', 1)]"
      ]
     },
     "execution_count": 105,
     "metadata": {},
     "output_type": "execute_result"
    }
   ],
   "source": [
    "most_occur = Counter.most_common(10)\n",
    "most_occur"
   ]
  },
  {
   "cell_type": "markdown",
   "id": "534a6f3a",
   "metadata": {},
   "source": [
    "# Named Entity Recognition (Chunking"
   ]
  },
  {
   "cell_type": "code",
   "execution_count": 106,
   "id": "3e2d0715",
   "metadata": {},
   "outputs": [],
   "source": [
    "from nltk import ne_chunk"
   ]
  },
  {
   "cell_type": "code",
   "execution_count": 107,
   "id": "22145ce1",
   "metadata": {},
   "outputs": [],
   "source": [
    "token = word_tokenize(paragraph)"
   ]
  },
  {
   "cell_type": "code",
   "execution_count": 108,
   "id": "f7dd90fa",
   "metadata": {},
   "outputs": [],
   "source": [
    "tags = nltk.pos_tag(token)"
   ]
  },
  {
   "cell_type": "code",
   "execution_count": 109,
   "id": "6a4fe313",
   "metadata": {},
   "outputs": [
    {
     "name": "stderr",
     "output_type": "stream",
     "text": [
      "[nltk_data] Downloading package maxent_ne_chunker to\n",
      "[nltk_data]     C:\\Users\\charumathi\\AppData\\Roaming\\nltk_data...\n",
      "[nltk_data]   Package maxent_ne_chunker is already up-to-date!\n",
      "[nltk_data] Downloading package words to\n",
      "[nltk_data]     C:\\Users\\charumathi\\AppData\\Roaming\\nltk_data...\n",
      "[nltk_data]   Package words is already up-to-date!\n"
     ]
    },
    {
     "data": {
      "text/plain": [
       "True"
      ]
     },
     "execution_count": 109,
     "metadata": {},
     "output_type": "execute_result"
    }
   ],
   "source": [
    "nltk.download('maxent_ne_chunker')\n",
    "nltk.download('words')"
   ]
  },
  {
   "cell_type": "code",
   "execution_count": 110,
   "id": "517e8cf8",
   "metadata": {},
   "outputs": [],
   "source": [
    "chunk=ne_chunk(tags)"
   ]
  },
  {
   "cell_type": "markdown",
   "id": "e470e040",
   "metadata": {},
   "source": [
    "# NER TAGS"
   ]
  },
  {
   "cell_type": "code",
   "execution_count": 111,
   "id": "dabf73c0",
   "metadata": {},
   "outputs": [
    {
     "name": "stdout",
     "output_type": "stream",
     "text": [
      "(S\n",
      "  (PERSON Machine/NN Learning/NNP)\n",
      "  can/MD\n",
      "  play/VB\n",
      "  a/DT\n",
      "  pivotal/JJ\n",
      "  role/NN\n",
      "  in/IN\n",
      "  a/DT\n",
      "  range/NN\n",
      "  of/IN\n",
      "  applications/NNS\n",
      "  such/JJ\n",
      "  as/IN\n",
      "  (PERSON Deep/NNP Learning/NNP)\n",
      "  ,/,\n",
      "  (ORGANIZATION Reinforcement/NNP Learning/NNP)\n",
      "  ,/,\n",
      "  (ORGANIZATION Natural/NNP Language/NNP Processing/NNP)\n",
      "  ,/,\n",
      "  etc/FW\n",
      "  ./.\n",
      "  A/DT\n",
      "  prime/JJ\n",
      "  example/NN\n",
      "  of/IN\n",
      "  the/DT\n",
      "  application/NN\n",
      "  of/IN\n",
      "  machine/NN\n",
      "  learning/NN\n",
      "  is/VBZ\n",
      "  the/DT\n",
      "  autonomous/JJ\n",
      "  vehicle/NN\n",
      "  ./.\n",
      "  Sensors/NNS\n",
      "  around/IN\n",
      "  the/DT\n",
      "  vehicle/NN\n",
      "  deliver/VB\n",
      "  thousands/NNS\n",
      "  of/IN\n",
      "  data/NNS\n",
      "  points/NNS\n",
      "  which/WDT\n",
      "  are/VBP\n",
      "  analyzed/VBN\n",
      "  and/CC\n",
      "  processed/VBN\n",
      "  to/TO\n",
      "  move/VB\n",
      "  the/DT\n",
      "  vehicle/NN\n",
      "  toward/IN\n",
      "  its/PRP$\n",
      "  destination/NN\n",
      "  ./.\n",
      "  Collective/JJ\n",
      "  data/NNS\n",
      "  from/IN\n",
      "  thousands/NNS\n",
      "  of/IN\n",
      "  self-driving/JJ\n",
      "  cars/NNS\n",
      "  can/MD\n",
      "  be/VB\n",
      "  used/VBN\n",
      "  to/TO\n",
      "  improve/VB\n",
      "  vehicle/NN\n",
      "  safety/NN\n",
      "  and/CC\n",
      "  prevent/NN\n",
      "  accidents.Food/NN\n",
      "  is/VBZ\n",
      "  any/DT\n",
      "  substance/NN\n",
      "  consumed/VBN\n",
      "  to/TO\n",
      "  provide/VB\n",
      "  nutritional/JJ\n",
      "  support/NN\n",
      "  for/IN\n",
      "  an/DT\n",
      "  organism/NN\n",
      "  ./.)\n"
     ]
    }
   ],
   "source": [
    "print(chunk)"
   ]
  }
 ],
 "metadata": {
  "kernelspec": {
   "display_name": "Python 3 (ipykernel)",
   "language": "python",
   "name": "python3"
  },
  "language_info": {
   "codemirror_mode": {
    "name": "ipython",
    "version": 3
   },
   "file_extension": ".py",
   "mimetype": "text/x-python",
   "name": "python",
   "nbconvert_exporter": "python",
   "pygments_lexer": "ipython3",
   "version": "3.9.7"
  }
 },
 "nbformat": 4,
 "nbformat_minor": 5
}
